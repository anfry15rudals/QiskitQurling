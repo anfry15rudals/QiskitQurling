{
 "cells": [
  {
   "cell_type": "markdown",
   "metadata": {
    "id": "ksJVcTLxzskm"
   },
   "source": [
    "# Import modules"
   ]
  },
  {
   "cell_type": "code",
   "execution_count": 1,
   "metadata": {
    "id": "N8fPchWjlyM1"
   },
   "outputs": [],
   "source": [
    "import qiskit\n",
    "import pylatexenc\n",
    "import torch\n",
    "import torch.nn as nn\n",
    "import torch.nn.functional as F"
   ]
  },
  {
   "cell_type": "code",
   "execution_count": 2,
   "metadata": {},
   "outputs": [],
   "source": [
    "import gym\n",
    "from functools import reduce\n",
    "from collections import deque, defaultdict"
   ]
  },
  {
   "cell_type": "code",
   "execution_count": 3,
   "metadata": {
    "id": "GfudJfnDmH06"
   },
   "outputs": [],
   "source": [
    "import qiskit\n",
    "import numpy as np\n",
    "import matplotlib.pyplot as plt\n",
    "import math, random, time, itertools\n",
    "from qiskit import QuantumCircuit, QuantumRegister, ClassicalRegister, Aer\n",
    "from qiskit.quantum_info.operators import Operator\n",
    "from qiskit.circuit import Parameter, ParameterVector\n",
    "from tqdm.notebook import tqdm\n",
    "from qiskit.opflow import Z, X, I, StateFn, CircuitStateFn, SummedOp, CircuitOp, AerPauliExpectation, Zero, One, ListOp, PauliSumOp\n",
    "from qiskit.opflow.gradients import Gradient, NaturalGradient, QFI, Hessian\n",
    "from qiskit_machine_learning.connectors import TorchConnector\n",
    "from qiskit_machine_learning.neural_networks import OpflowQNN\n",
    "from qiskit.utils import QuantumInstance, algorithm_globals"
   ]
  },
  {
   "cell_type": "code",
   "execution_count": 4,
   "metadata": {},
   "outputs": [],
   "source": [
    "from Curling import Curling\n",
    "from ansatz import build_circuit"
   ]
  },
  {
   "cell_type": "markdown",
   "metadata": {
    "id": "jySdpQf_zuiE"
   },
   "source": [
    "# Build CIrucit"
   ]
  },
  {
   "cell_type": "markdown",
   "metadata": {},
   "source": [
    "### Ansatz list\n",
    "- 'base'\n",
    "- 'hw_eff'\n",
    "- 'universal'\n",
    "- 'universal_encoding'"
   ]
  },
  {
   "cell_type": "code",
   "execution_count": 5,
   "metadata": {},
   "outputs": [
    {
     "data": {
      "image/png": "[encoded data removed]",
      "text/plain": [
       "<Figure size 581.033x144.48 with 1 Axes>"
      ]
     },
     "execution_count": 5,
     "metadata": {},
     "output_type": "execute_result"
    }
   ],
   "source": [
    "def draw_example():\n",
    "    quantum_circuit, param_rot, param_enc = build_circuit(n_qubits=2, n_layers=1, opt='omega')\n",
    "    return quantum_circuit\n",
    "draw_example().draw('mpl')"
   ]
  },
  {
   "cell_type": "code",
   "execution_count": 6,
   "metadata": {},
   "outputs": [],
   "source": [
    "# circuit, rot_params, enc_params = build_circuit(n_qubits=2, n_layers=1)"
   ]
  },
  {
   "cell_type": "code",
   "execution_count": 7,
   "metadata": {},
   "outputs": [],
   "source": [
    "class PQC_with_DataReuploading(nn.Module):\n",
    "    def __init__(self, n_qubits, n_layers, output_dim, observables=None, ansatz='base', activation='linear'):\n",
    "        super().__init__()\n",
    "        \n",
    "        self.n_qubits = n_qubits\n",
    "        self.n_layers = n_layers\n",
    "        self.output_dim = output_dim\n",
    "        self.activation = activation\n",
    "        self.ansatz = ansatz\n",
    "        \n",
    "        if observables == None:\n",
    "            self.observables = Z^n_qubits\n",
    "        else:\n",
    "            self.observables = observables\n",
    "        \n",
    "        # Build circuits / Parameter Vectors\n",
    "        self.circuit, self.rot_params, self.enc_params = build_circuit(self.n_qubits, self.n_layers, ansatz)\n",
    "        self.len_rot_params = len(self.rot_params)\n",
    "        self.len_enc_params = len(self.enc_params)\n",
    "        \n",
    "        self.psi = CircuitStateFn(primitive=self.circuit, coeff=1.)\n",
    "        self.Op = ~StateFn(self.observables) @ self.psi\n",
    "#         print(self.Op)\n",
    "        # set method to calculcate expected values\n",
    "        expval = AerPauliExpectation()\n",
    "        # define gradient method\n",
    "        gradient = Gradient(grad_method='param_shift')\n",
    "        # define quantum instances (statevector and sample based)\n",
    "        qi_sv = QuantumInstance(Aer.get_backend(\"aer_simulator_statevector\"))\n",
    "        # we set shots to 10 as this will determine the number of samples later on.\n",
    "        qi_qasm = QuantumInstance(Aer.get_backend(\"aer_simulator\"), shots=1000)\n",
    "        \n",
    "        self.qnn = OpflowQNN(operator=self.Op, input_params=self.enc_params, weight_params=self.rot_params, \n",
    "                             exp_val=expval, gradient=gradient, quantum_instance=qi_sv, input_gradients=True)\n",
    "        \n",
    "        self.total_params = []\n",
    "        for p in self.rot_params:\n",
    "            self.total_params.append(p)\n",
    "        for p in self.enc_params:\n",
    "            self.total_params.append(p)\n",
    "        \n",
    "        # Initial Parameters for circuit\n",
    "#         self.rot_param_vals = nn.Parameter(2*np.pi * torch.rand(len(self.rot_params)))\n",
    "#         self.rot_param_vals = nn.Parameter(2*np.pi * torch.rand(len(self.rot_params)))\n",
    "        self.rot_param_vals = nn.Parameter(torch.tensor([-np.pi/2+0.1*np.random.rand(), -np.pi+0.1*np.random.rand(),\n",
    "                                                         -np.pi/2+0.1*np.random.rand(), -np.pi+0.1*np.random.rand()]))\n",
    "#         self.enc_param_vals = nn.Parameter(torch.ones(len(self.enc_params)))\n",
    "#         self.enc_param_vals  = nn.Parameter(nn.Parameter(torch.rand(len(self.enc_params))))\n",
    "#         self.enc_param_vals  = nn.Parameter(torch.rand(len(self.enc_params)))\n",
    "          self.enc_param_vals  = nn.Parameter(torch.tensor([np.pi/2+0.1*np.random.rand(), -np.pi/2+0.1*np.random.rand()]))\n",
    "        \n",
    "        # Parameter for circuit output\n",
    "#         self.w = nn.Parameter(nn.Parameter(torch.rand(self.output_dim)))\n",
    "#         self.w = nn.Parameter(torch.tensor([-1,1], dtype=torch.float32))\n",
    "        \n",
    "    def forward(self, inputs):\n",
    "        input_tiled = self.get_input_tiled(inputs)\n",
    "        input_scaled = self.enc_param_vals * input_tiled\n",
    "        input_params = input_scaled\n",
    "    \n",
    "        expectation = self.qnn.forward(input_params.detach(), self.rot_param_vals.detach())\n",
    "        \n",
    "        action_exp = torch.tensor(expectation) * self.w\n",
    "        action_prob = F.softmax(action_exp, dim=1)\n",
    "        \n",
    "        return action_prob\n",
    "\n",
    "    def backward(self, inputs):\n",
    "        input_tiled = self.get_input_tiled(inputs)\n",
    "        input_scaled = self.enc_param_vals * input_tiled\n",
    "        input_params = input_scaled\n",
    "        expectation = self.qnn.forward(input_params.detach(), self.rot_param_vals.detach())\n",
    "        enc_grad, rot_grad = self.qnn.backward(input_params.detach(), self.rot_param_vals.detach())\n",
    "#         w_grad = torch.tensor(expectation).tile(self.output_dim)\n",
    "#         return torch.tensor(rot_grad.squeeze()), torch.tensor(enc_grad.squeeze()), w_grad\n",
    "        return torch.tensor(rot_grad.squeeze()), torch.tensor(enc_grad.squeeze())\n",
    "    \n",
    "    def get_input_tiled(self, inputs):\n",
    "        # Input: State values -> Need to insert into Encoding gates with scaling parameters(encoding params)\n",
    "        if self.ansatz == 'universal_encoding' or self.ansatz == 'hw_eff':\n",
    "            input_tiled = inputs.tile(2)\n",
    "            input_tiled = input_tiled.tile(self.n_layers)\n",
    "        elif self.ansatz == 'universal':\n",
    "            input_tiled = torch.zeros((inputs.shape[0], inputs.shape[1]+1))\n",
    "            input_tiled[:,:2] = inputs\n",
    "            input_tiled[:,-1] = inputs[:,-1]\n",
    "        else:\n",
    "            input_tiled = inputs.tile(self.n_layers)\n",
    "        return input_tiled"
   ]
  },
  {
   "cell_type": "code",
   "execution_count": 9,
   "metadata": {},
   "outputs": [],
   "source": [
    "policy = PQC_with_DataReuploading(n_qubits=2, n_layers=1, output_dim=2, ansatz='omega')"
   ]
  },
  {
   "cell_type": "code",
   "execution_count": 10,
   "metadata": {},
   "outputs": [
    {
     "data": {
      "text/plain": [
       "PauliOp(Pauli('ZZ'), coeff=1.0)"
      ]
     },
     "execution_count": 10,
     "metadata": {},
     "output_type": "execute_result"
    }
   ],
   "source": [
    "policy.observables"
   ]
  },
  {
   "cell_type": "code",
   "execution_count": 11,
   "metadata": {},
   "outputs": [
    {
     "data": {
      "image/png": "[encoded data removed]",
      "text/plain": [
       "<Figure size 607.575x144.48 with 1 Axes>"
      ]
     },
     "execution_count": 11,
     "metadata": {},
     "output_type": "execute_result"
    }
   ],
   "source": [
    "policy.circuit.draw('mpl')"
   ]
  },
  {
   "cell_type": "code",
   "execution_count": null,
   "metadata": {},
   "outputs": [],
   "source": [
    "inputs = torch.rand((10,2))"
   ]
  },
  {
   "cell_type": "code",
   "execution_count": null,
   "metadata": {},
   "outputs": [],
   "source": [
    "policy.rot_param_vals"
   ]
  },
  {
   "cell_type": "code",
   "execution_count": null,
   "metadata": {},
   "outputs": [],
   "source": [
    "policy.enc_param_vals"
   ]
  },
  {
   "cell_type": "code",
   "execution_count": null,
   "metadata": {},
   "outputs": [],
   "source": [
    "policy.w"
   ]
  },
  {
   "cell_type": "code",
   "execution_count": null,
   "metadata": {},
   "outputs": [],
   "source": [
    "policy.forward(inputs)"
   ]
  },
  {
   "cell_type": "code",
   "execution_count": null,
   "metadata": {},
   "outputs": [],
   "source": [
    "policy.forward(inputs)"
   ]
  },
  {
   "cell_type": "code",
   "execution_count": null,
   "metadata": {},
   "outputs": [],
   "source": [
    "policy.forward(inputs)"
   ]
  },
  {
   "cell_type": "code",
   "execution_count": null,
   "metadata": {},
   "outputs": [],
   "source": [
    "s = time.time()\n",
    "a,b,c = policy.backward(inputs)\n",
    "print(time.time()-s)"
   ]
  },
  {
   "cell_type": "markdown",
   "metadata": {},
   "source": [
    "# Make Quantum Agent"
   ]
  },
  {
   "cell_type": "code",
   "execution_count": null,
   "metadata": {},
   "outputs": [],
   "source": [
    "class QuantumAgent():\n",
    "    def __init__(self, input_state_dim, n_actions, n_layers=1, ansatz='base'):\n",
    "        self.policy = PQC_with_DataReuploading(n_qubits=input_state_dim, n_layers=n_layers, \n",
    "                                               output_dim=n_actions, observables=None, ansatz=ansatz,\n",
    "                                               activation='linear')\n",
    "        self.n_layers = n_layers\n",
    "        self.variational_optim = torch.optim.Adam([self.policy.rot_param_vals], lr=0.1)\n",
    "        self.encoding_optim = torch.optim.Adam([self.policy.enc_param_vals], lr=0.1)\n",
    "        self.weight_optim = torch.optim.Adam([self.policy.w], lr=0.01)\n",
    "        \n",
    "        self.lr = 1\n",
    "        \n",
    "        self.optims = [self.variational_optim, self.encoding_optim, self.weight_optim]\n",
    "        \n",
    "    def get_actions(self, input_state):\n",
    "        return self.policy.forward(input_state)\n",
    "    \n",
    "    def update_policy(self, states, id_action_pairs, returns, action_probs, batch_size):\n",
    "        r_grad, e_grad, w_grad = self.policy.backward(states)\n",
    "        \n",
    "        p_actions = torch.tensor([action_probs[id_action_pairs[i][0], id_action_pairs[i][1]] for i in range(action_probs.shape[0])])\n",
    "        p_actions = p_actions.reshape(p_actions.shape[0], -1)\n",
    "        action_idxs = id_action_pairs[:,1]\n",
    "        \n",
    "        returns = returns.reshape(returns.shape[0], -1)\n",
    "        action_weights = agent.policy.w.detach().numpy()[id_action_pairs[:,1]]\n",
    "        action_weights = action_weights[:,np.newaxis]\n",
    "        \n",
    "        w = agent.policy.w.tile(len(states)).reshape(len(states),-1)\n",
    "        \n",
    "        rot_grad = returns * ( r_grad * torch.tensor(action_weights) - torch.sum(p_actions * w) * r_grad)\n",
    "        input_scaled = self.policy.enc_param_vals * self.policy.get_input_tiled(states)\n",
    "        \n",
    "        enc_grad = returns * ( e_grad * torch.tensor(action_weights) - input_scaled * torch.sum(p_actions * w) * e_grad)\n",
    "        weight_grad = returns * ( w_grad * torch.tensor(action_weights) - torch.sum(p_actions * w) * w_grad)\n",
    "        \n",
    "        prev = self.policy.rot_param_vals.detach().numpy().copy()\n",
    "        prev1 = self.policy.enc_param_vals.detach().numpy().copy()\n",
    "        prev2 = self.policy.w.detach().numpy().copy()\n",
    "        \n",
    "#         rot_update = (torch.mean(rot_grad.detach(), dim=0) / batch_size).type(torch.float32)\n",
    "#         enc_update = (torch.mean(enc_grad, dim=0).detach() / batch_size).type(torch.float32)\n",
    "#         w_update = (torch.mean(weight_grad, dim=0).detach() / batch_size).type(torch.float32)\n",
    "        \n",
    "        rot_update = torch.mean(rot_grad, dim=0) / batch_size\n",
    "        enc_update = torch.mean(enc_grad, dim=0) / batch_size\n",
    "        w_update = torch.mean(weight_grad, dim=0) / batch_size\n",
    "        \n",
    "        \n",
    "        with torch.no_grad():            \n",
    "            self.policy.rot_param_vals += 1 * rot_update\n",
    "            self.policy.enc_param_vals += 1 * enc_update\n",
    "            self.policy.w += 0.1 * w_update\n",
    "    \n",
    "#         self.policy.rot_param_vals.grad = -1*rot_update\n",
    "#         self.policy.enc_param_vals.grad = -1*enc_update\n",
    "#         self.policy.w.grad = -1*w_update\n",
    "                \n",
    "#         print(rot_update)\n",
    "#         print(enc_update)\n",
    "        \n",
    "#         self.variational_optim.step()\n",
    "#         self.encoding_optim.step()\n",
    "#         self.weight_optim.step()\n",
    "\n",
    "        print(self.policy.rot_param_vals.detach() - prev)\n",
    "        print(rot_update)\n",
    "        print(self.policy.enc_param_vals.detach() - prev1)\n",
    "        print(enc_update)\n",
    "        print(self.policy.w.detach() - prev2)\n",
    "        print(w_update)\n",
    "        \n",
    "        print('w', self.policy.w)\n",
    "        \n",
    "#         with torch.no_grad():\n",
    "#             self.policy.rot_param_vals[self.policy.rot_param_vals > 2*np.pi] = 2*np.pi\n",
    "#             self.policy.enc_param_vals[self.policy.enc_param_vals > 2*np.pi] = 2*np.pi\n",
    "#             self.policy.rot_param_vals[self.policy.rot_param_vals < 0] = 0\n",
    "#             self.policy.enc_param_vals[self.policy.enc_param_vals < 0] = 0\n",
    "        \n",
    "#         print(self.policy.rot_param_vals)"
   ]
  },
  {
   "cell_type": "code",
   "execution_count": null,
   "metadata": {},
   "outputs": [],
   "source": [
    "n_qubits = 2 # Dimension of the state vectors in CartPole\n",
    "n_layers = 1\n",
    "n_actions = 2 # Number of actions in CartPole\n",
    "agent = QuantumAgent(input_state_dim = n_qubits, n_actions=n_actions, n_layers=n_layers, ansatz='universal_encoding')"
   ]
  },
  {
   "cell_type": "code",
   "execution_count": null,
   "metadata": {},
   "outputs": [],
   "source": [
    "agent.policy.circuit.draw('mpl')"
   ]
  },
  {
   "cell_type": "markdown",
   "metadata": {},
   "source": [
    "# Run Episodes and Update Policy"
   ]
  },
  {
   "cell_type": "code",
   "execution_count": null,
   "metadata": {},
   "outputs": [],
   "source": [
    "def gather_episodes(state_bounds, n_actions, agent, n_episodes, env_name):\n",
    "    \"\"\"Interact with environment in batched fashion.\"\"\"\n",
    "\n",
    "    trajectories = [defaultdict(list) for _ in range(n_episodes)]\n",
    "    if env_name == 'Curling':\n",
    "        envs = [Curling(reward_type='each_end_counts') for _ in range(n_episodes)]\n",
    "    else:\n",
    "        envs = [gym.make(env_name) for _ in range(n_episodes)]\n",
    "\n",
    "    done = [False for _ in range(n_episodes)]\n",
    "    states = [e.reset() for e in envs]\n",
    "\n",
    "    while not all(done):\n",
    "        unfinished_ids = [i for i in range(n_episodes) if not done[i]]\n",
    "        normalized_states = [s/state_bounds for i, s in enumerate(states) if not done[i]]\n",
    "\n",
    "        for i, state in zip(unfinished_ids, normalized_states):\n",
    "            trajectories[i]['states'].append(state)\n",
    "\n",
    "        states = torch.from_numpy(np.array(normalized_states))\n",
    "        action_probs = agent.get_actions(states)\n",
    "\n",
    "        # Store action and transition all environments to the next state\n",
    "        states = [None for i in range(n_episodes)]\n",
    "        for i, action_prob in zip(unfinished_ids, action_probs.detach().numpy()):\n",
    "            action = np.random.choice(n_actions, p=action_prob)\n",
    "            states[i], reward, done[i], _ = envs[i].step(action)\n",
    "            trajectories[i]['actions'].append(action)\n",
    "            trajectories[i]['rewards'].append(reward)\n",
    "            trajectories[i]['action probs'].append(action_prob)\n",
    "\n",
    "    return trajectories\n",
    "\n",
    "def compute_returns(rewards_history, gamma):\n",
    "    \"\"\"Compute discounted returns with discount factor `gamma`.\"\"\"\n",
    "    returns = []\n",
    "    discounted_sum = 0\n",
    "    for r in rewards_history[::-1]:\n",
    "        discounted_sum = r + gamma * discounted_sum\n",
    "        returns.insert(0, discounted_sum)\n",
    "\n",
    "    # Normalize them for faster and more stable learning\n",
    "    returns = np.array(returns)\n",
    "    returns = (returns - np.mean(returns)) / (np.std(returns) + 1e-8)\n",
    "    returns = returns.tolist()\n",
    "\n",
    "    return returns"
   ]
  },
  {
   "cell_type": "code",
   "execution_count": null,
   "metadata": {},
   "outputs": [],
   "source": [
    "env_name = \"Curling\"\n",
    "# env_name = \"Curling\"\n",
    "if env_name == \"CartPole-v1\":\n",
    "    state_bounds = np.array([2.4, 2.5, 0.21, 2.5])\n",
    "elif env_name == 'Curling':\n",
    "    state_bounds = np.array([3, 1])\n",
    "gamma = 1\n",
    "batch_size = 10\n",
    "n_episodes = 1000"
   ]
  },
  {
   "cell_type": "code",
   "execution_count": null,
   "metadata": {
    "scrolled": true
   },
   "outputs": [],
   "source": [
    "# Start training the agent\n",
    "episode_reward_history = []\n",
    "# Monitoring reward\n",
    "monitor_reward_history = []\n",
    "for batch in tqdm(range(n_episodes // batch_size)):\n",
    "    # Gather episodes\n",
    "    episodes = gather_episodes(state_bounds, n_actions, agent, batch_size, env_name)\n",
    "\n",
    "    # Group states, actions and returns in numpy arrays\n",
    "    states = torch.from_numpy(np.concatenate([ep['states'] for ep in episodes]))\n",
    "    actions = torch.from_numpy(np.concatenate([ep['actions'] for ep in episodes]))\n",
    "    action_probs = torch.from_numpy(np.concatenate([ep['action probs'] for ep in episodes]))\n",
    "    rewards = [ep['rewards'] for ep in episodes]\n",
    "    returns = np.concatenate([compute_returns(ep_rwds, gamma) for ep_rwds in rewards])\n",
    "    returns = torch.from_numpy(np.array(returns))\n",
    "\n",
    "    id_action_pairs = torch.from_numpy(np.array([[i, a] for i, a in enumerate(actions)]))\n",
    "\n",
    "    # Update model parameters.\n",
    "    agent.update_policy(states, id_action_pairs, returns, action_probs, batch_size)\n",
    "    print(action_probs)\n",
    "\n",
    "    if batch % 5 == 1:\n",
    "        # Gather episodes\n",
    "        episodes = gather_episodes(state_bounds, n_actions, agent, 50, env_name)\n",
    "\n",
    "        # Group states, actions and returns in numpy arrays\n",
    "        states = torch.from_numpy(np.concatenate([ep['states'] for ep in episodes]))\n",
    "        actions = torch.from_numpy(np.concatenate([ep['actions'] for ep in episodes]))\n",
    "        action_probs = torch.from_numpy(np.concatenate([ep['action probs'] for ep in episodes]))\n",
    "        rewards = [ep['rewards'] for ep in episodes]\n",
    "        # Store collected rewards\n",
    "        temp_hist = []\n",
    "        for ep_rwds in rewards:\n",
    "            temp_hist.append(np.sum(ep_rwds))\n",
    "        avg_rewards = np.mean(temp_hist)\n",
    "        monitor_reward_history.append(avg_rewards)\n",
    "        \n",
    "        print('Monitored episode', 50,\n",
    "              'Average Monitored rewards: ', avg_rewards)\n",
    "\n",
    "    # Store collected rewards\n",
    "    for ep_rwds in rewards:\n",
    "        episode_reward_history.append(np.sum(ep_rwds))\n",
    "\n",
    "    avg_rewards = np.mean(episode_reward_history[-batch_size:])\n",
    "\n",
    "    print('Finished episode', (batch + 1) * batch_size,\n",
    "          'Average rewards: ', avg_rewards)\n",
    "\n",
    "    if avg_rewards >= 500.0:\n",
    "        break"
   ]
  },
  {
   "cell_type": "code",
   "execution_count": null,
   "metadata": {},
   "outputs": [],
   "source": [
    "plt.plot(episode_reward_history)"
   ]
  },
  {
   "cell_type": "code",
   "execution_count": null,
   "metadata": {},
   "outputs": [],
   "source": [
    "plt.hist(episode_reward_history[:200], bins=30)\n",
    "plt.hist(episode_reward_history[-200:], bins=30, label='last')\n",
    "plt.legend()\n",
    "# plt.savefig('hist.png')"
   ]
  },
  {
   "cell_type": "code",
   "execution_count": null,
   "metadata": {},
   "outputs": [],
   "source": [
    "plt.plot(monitor_reward_history)\n",
    "# plt.savefig('rewardmonitor.png')"
   ]
  },
  {
   "cell_type": "code",
   "execution_count": null,
   "metadata": {},
   "outputs": [],
   "source": []
  },
  {
   "cell_type": "code",
   "execution_count": null,
   "metadata": {},
   "outputs": [],
   "source": []
  }
 ],
 "metadata": {
  "colab": {
   "authorship_tag": "ABX9TyNE3QY8UA5xCDFR4Ht9tSPe",
   "collapsed_sections": [
    "ksJVcTLxzskm",
    "jySdpQf_zuiE",
    "MIKgmnTWM8yz",
    "eLm2LW4zBqPo"
   ],
   "name": "QuantumCircuitLearning.ipynb",
   "provenance": []
  },
  "kernelspec": {
   "display_name": "Python 3",
   "language": "python",
   "name": "python3"
  },
  "language_info": {
   "codemirror_mode": {
    "name": "ipython",
    "version": 3
   },
   "file_extension": ".py",
   "mimetype": "text/x-python",
   "name": "python",
   "nbconvert_exporter": "python",
   "pygments_lexer": "ipython3",
   "version": "3.8.8"
  },
  "widgets": {
   "application/vnd.jupyter.widget-state+json": {
    "1b23efbb8db748a2af8554186cf2a3d8": {
     "model_module": "@jupyter-widgets/base",
     "model_module_version": "1.2.0",
     "model_name": "LayoutModel",
     "state": {
      "_model_module": "@jupyter-widgets/base",
      "_model_module_version": "1.2.0",
      "_model_name": "LayoutModel",
      "_view_count": null,
      "_view_module": "@jupyter-widgets/base",
      "_view_module_version": "1.2.0",
      "_view_name": "LayoutView",
      "align_content": null,
      "align_items": null,
      "align_self": null,
      "border": null,
      "bottom": null,
      "display": null,
      "flex": null,
      "flex_flow": null,
      "grid_area": null,
      "grid_auto_columns": null,
      "grid_auto_flow": null,
      "grid_auto_rows": null,
      "grid_column": null,
      "grid_gap": null,
      "grid_row": null,
      "grid_template_areas": null,
      "grid_template_columns": null,
      "grid_template_rows": null,
      "height": null,
      "justify_content": null,
      "justify_items": null,
      "left": null,
      "margin": null,
      "max_height": null,
      "max_width": null,
      "min_height": null,
      "min_width": null,
      "object_fit": null,
      "object_position": null,
      "order": null,
      "overflow": null,
      "overflow_x": null,
      "overflow_y": null,
      "padding": null,
      "right": null,
      "top": null,
      "visibility": null,
      "width": null
     }
    },
    "235d4532e52e4aadbc6c049c0c7369b3": {
     "model_module": "@jupyter-widgets/base",
     "model_module_version": "1.2.0",
     "model_name": "LayoutModel",
     "state": {
      "_model_module": "@jupyter-widgets/base",
      "_model_module_version": "1.2.0",
      "_model_name": "LayoutModel",
      "_view_count": null,
      "_view_module": "@jupyter-widgets/base",
      "_view_module_version": "1.2.0",
      "_view_name": "LayoutView",
      "align_content": null,
      "align_items": null,
      "align_self": null,
      "border": null,
      "bottom": null,
      "display": null,
      "flex": null,
      "flex_flow": null,
      "grid_area": null,
      "grid_auto_columns": null,
      "grid_auto_flow": null,
      "grid_auto_rows": null,
      "grid_column": null,
      "grid_gap": null,
      "grid_row": null,
      "grid_template_areas": null,
      "grid_template_columns": null,
      "grid_template_rows": null,
      "height": null,
      "justify_content": null,
      "justify_items": null,
      "left": null,
      "margin": null,
      "max_height": null,
      "max_width": null,
      "min_height": null,
      "min_width": null,
      "object_fit": null,
      "object_position": null,
      "order": null,
      "overflow": null,
      "overflow_x": null,
      "overflow_y": null,
      "padding": null,
      "right": null,
      "top": null,
      "visibility": null,
      "width": null
     }
    },
    "25885ff5cc014bafa5442805d676c0be": {
     "model_module": "@jupyter-widgets/controls",
     "model_module_version": "1.5.0",
     "model_name": "FloatProgressModel",
     "state": {
      "_dom_classes": [],
      "_model_module": "@jupyter-widgets/controls",
      "_model_module_version": "1.5.0",
      "_model_name": "FloatProgressModel",
      "_view_count": null,
      "_view_module": "@jupyter-widgets/controls",
      "_view_module_version": "1.5.0",
      "_view_name": "ProgressView",
      "bar_style": "success",
      "description": "100%",
      "description_tooltip": null,
      "layout": "IPY_MODEL_235d4532e52e4aadbc6c049c0c7369b3",
      "max": 50,
      "min": 0,
      "orientation": "horizontal",
      "style": "IPY_MODEL_4ede1074ee2f496ab3d864be52157d03",
      "value": 50
     }
    },
    "40ae390ed75a46f292ffc969fdd0509e": {
     "model_module": "@jupyter-widgets/controls",
     "model_module_version": "1.5.0",
     "model_name": "DescriptionStyleModel",
     "state": {
      "_model_module": "@jupyter-widgets/controls",
      "_model_module_version": "1.5.0",
      "_model_name": "DescriptionStyleModel",
      "_view_count": null,
      "_view_module": "@jupyter-widgets/base",
      "_view_module_version": "1.2.0",
      "_view_name": "StyleView",
      "description_width": ""
     }
    },
    "4ede1074ee2f496ab3d864be52157d03": {
     "model_module": "@jupyter-widgets/controls",
     "model_module_version": "1.5.0",
     "model_name": "ProgressStyleModel",
     "state": {
      "_model_module": "@jupyter-widgets/controls",
      "_model_module_version": "1.5.0",
      "_model_name": "ProgressStyleModel",
      "_view_count": null,
      "_view_module": "@jupyter-widgets/base",
      "_view_module_version": "1.2.0",
      "_view_name": "StyleView",
      "bar_color": null,
      "description_width": "initial"
     }
    },
    "68c55b17e042416c91105f585c6f622a": {
     "model_module": "@jupyter-widgets/controls",
     "model_module_version": "1.5.0",
     "model_name": "HTMLModel",
     "state": {
      "_dom_classes": [],
      "_model_module": "@jupyter-widgets/controls",
      "_model_module_version": "1.5.0",
      "_model_name": "HTMLModel",
      "_view_count": null,
      "_view_module": "@jupyter-widgets/controls",
      "_view_module_version": "1.5.0",
      "_view_name": "HTMLView",
      "description": "",
      "description_tooltip": null,
      "layout": "IPY_MODEL_ec14bbc210b743f085734c3bf858fd72",
      "placeholder": "​",
      "style": "IPY_MODEL_40ae390ed75a46f292ffc969fdd0509e",
      "value": " 50/50 [11:53&lt;00:00, 14.28s/it]"
     }
    },
    "cc511557b8a54d408c9d2ddcaa7aa7dc": {
     "model_module": "@jupyter-widgets/controls",
     "model_module_version": "1.5.0",
     "model_name": "HBoxModel",
     "state": {
      "_dom_classes": [],
      "_model_module": "@jupyter-widgets/controls",
      "_model_module_version": "1.5.0",
      "_model_name": "HBoxModel",
      "_view_count": null,
      "_view_module": "@jupyter-widgets/controls",
      "_view_module_version": "1.5.0",
      "_view_name": "HBoxView",
      "box_style": "",
      "children": [
       "IPY_MODEL_25885ff5cc014bafa5442805d676c0be",
       "IPY_MODEL_68c55b17e042416c91105f585c6f622a"
      ],
      "layout": "IPY_MODEL_1b23efbb8db748a2af8554186cf2a3d8"
     }
    },
    "ec14bbc210b743f085734c3bf858fd72": {
     "model_module": "@jupyter-widgets/base",
     "model_module_version": "1.2.0",
     "model_name": "LayoutModel",
     "state": {
      "_model_module": "@jupyter-widgets/base",
      "_model_module_version": "1.2.0",
      "_model_name": "LayoutModel",
      "_view_count": null,
      "_view_module": "@jupyter-widgets/base",
      "_view_module_version": "1.2.0",
      "_view_name": "LayoutView",
      "align_content": null,
      "align_items": null,
      "align_self": null,
      "border": null,
      "bottom": null,
      "display": null,
      "flex": null,
      "flex_flow": null,
      "grid_area": null,
      "grid_auto_columns": null,
      "grid_auto_flow": null,
      "grid_auto_rows": null,
      "grid_column": null,
      "grid_gap": null,
      "grid_row": null,
      "grid_template_areas": null,
      "grid_template_columns": null,
      "grid_template_rows": null,
      "height": null,
      "justify_content": null,
      "justify_items": null,
      "left": null,
      "margin": null,
      "max_height": null,
      "max_width": null,
      "min_height": null,
      "min_width": null,
      "object_fit": null,
      "object_position": null,
      "order": null,
      "overflow": null,
      "overflow_x": null,
      "overflow_y": null,
      "padding": null,
      "right": null,
      "top": null,
      "visibility": null,
      "width": null
     }
    }
   }
  }
 },
 "nbformat": 4,
 "nbformat_minor": 1
}
