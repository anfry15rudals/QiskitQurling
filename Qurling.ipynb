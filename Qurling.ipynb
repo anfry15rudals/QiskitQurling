{
 "cells": [
  {
   "cell_type": "markdown",
   "metadata": {
    "id": "ksJVcTLxzskm"
   },
   "source": [
    "# Import modules"
   ]
  },
  {
   "cell_type": "code",
   "execution_count": 1,
   "metadata": {
    "id": "N8fPchWjlyM1"
   },
   "outputs": [],
   "source": [
    "import qiskit\n",
    "import pylatexenc\n",
    "import torch\n",
    "import torch.nn as nn\n",
    "import torch.nn.functional as F"
   ]
  },
  {
   "cell_type": "code",
   "execution_count": 2,
   "metadata": {},
   "outputs": [],
   "source": [
    "import gym\n",
    "from functools import reduce\n",
    "from collections import deque, defaultdict"
   ]
  },
  {
   "cell_type": "code",
   "execution_count": 3,
   "metadata": {
    "id": "GfudJfnDmH06"
   },
   "outputs": [],
   "source": [
    "import qiskit\n",
    "import numpy as np\n",
    "import matplotlib.pyplot as plt\n",
    "import math, random, time, itertools\n",
    "from qiskit import QuantumCircuit, QuantumRegister, ClassicalRegister, Aer\n",
    "from qiskit.quantum_info.operators import Operator\n",
    "from qiskit.circuit import Parameter, ParameterVector\n",
    "from tqdm.notebook import tqdm\n",
    "from qiskit.opflow import Z, X, I, StateFn, CircuitStateFn, SummedOp, CircuitOp, AerPauliExpectation\n",
    "from qiskit.opflow.gradients import Gradient, NaturalGradient, QFI, Hessian\n",
    "from qiskit_machine_learning.connectors import TorchConnector\n",
    "from qiskit_machine_learning.neural_networks import OpflowQNN\n",
    "from qiskit.utils import QuantumInstance, algorithm_globals"
   ]
  },
  {
   "cell_type": "code",
   "execution_count": 4,
   "metadata": {},
   "outputs": [],
   "source": [
    "from Curling import Curling\n",
    "from ansatz import build_circuit"
   ]
  },
  {
   "cell_type": "markdown",
   "metadata": {
    "id": "jySdpQf_zuiE"
   },
   "source": [
    "# Build CIrucit"
   ]
  },
  {
   "cell_type": "markdown",
   "metadata": {},
   "source": [
    "### Ansatz list\n",
    "- 'base'\n",
    "- 'hw_eff'\n",
    "- 'universal'\n",
    "- 'universal_encoding'"
   ]
  },
  {
   "cell_type": "code",
   "execution_count": 5,
   "metadata": {},
   "outputs": [
    {
     "data": {
      "image/png": "[encoded data removed]",
      "text/plain": [
       "<Figure size 1062.63x144.48 with 1 Axes>"
      ]
     },
     "execution_count": 5,
     "metadata": {},
     "output_type": "execute_result"
    }
   ],
   "source": [
    "def draw_example():\n",
    "    quantum_circuit, param_rot, param_enc = build_circuit(n_qubits=2, n_layers=1, opt='universal_encoding')\n",
    "    return quantum_circuit\n",
    "draw_example().draw('mpl')"
   ]
  },
  {
   "cell_type": "code",
   "execution_count": 6,
   "metadata": {},
   "outputs": [],
   "source": [
    "# circuit, rot_params, enc_params = build_circuit(n_qubits=2, n_layers=1)"
   ]
  },
  {
   "cell_type": "code",
   "execution_count": 65,
   "metadata": {},
   "outputs": [],
   "source": [
    "class PQC_with_DataReuploading(nn.Module):\n",
    "    def __init__(self, n_qubits, n_layers, output_dim, observables=None, ansatz='base', activation='linear'):\n",
    "        super().__init__()\n",
    "        \n",
    "        self.n_qubits = n_qubits\n",
    "        self.n_layers = n_layers\n",
    "        self.output_dim = output_dim\n",
    "        self.activation = activation\n",
    "        self.ansatz = ansatz\n",
    "        \n",
    "        if observables == None:\n",
    "            self.observables = Z^n_qubits\n",
    "        else:\n",
    "            self.observables = observables\n",
    "        \n",
    "        # Build circuits / Parameter Vectors\n",
    "        self.circuit, self.rot_params, self.enc_params = build_circuit(self.n_qubits, self.n_layers, ansatz)\n",
    "        self.len_rot_params = len(self.rot_params)\n",
    "        self.len_enc_params = len(self.enc_params)\n",
    "        \n",
    "        self.psi = CircuitStateFn(primitive=self.circuit, coeff=1.)\n",
    "        self.Op = ~StateFn(self.observables) @ self.psi\n",
    "        \n",
    "        # set method to calculcate expected values\n",
    "        expval = AerPauliExpectation()\n",
    "        # define gradient method\n",
    "        gradient = Gradient()\n",
    "        # define quantum instances (statevector and sample based)\n",
    "        qi_sv = QuantumInstance(Aer.get_backend(\"aer_simulator_statevector\"))\n",
    "        # we set shots to 10 as this will determine the number of samples later on.\n",
    "        qi_qasm = QuantumInstance(Aer.get_backend(\"aer_simulator\"), shots=1000)\n",
    "        \n",
    "        self.qnn = OpflowQNN(operator=self.Op, input_params=self.enc_params, weight_params=self.rot_params, \n",
    "                             exp_val=expval, gradient=gradient, quantum_instance=qi_sv, input_gradients=True)\n",
    "        \n",
    "        self.total_params = []\n",
    "        for p in self.rot_params:\n",
    "            self.total_params.append(p)\n",
    "        for p in self.enc_params:\n",
    "            self.total_params.append(p)\n",
    "        \n",
    "        # Initial Parameters for circuit\n",
    "#         self.rot_param_vals = nn.Parameter(2*np.pi * torch.rand(len(self.rot_params)))\n",
    "        self.rot_param_vals = nn.Parameter(2*np.pi * torch.rand(len(self.rot_params)))\n",
    "#         self.enc_param_vals = nn.Parameter(torch.ones(len(self.enc_params)))\n",
    "#         self.enc_param_vals  = nn.Parameter(nn.Parameter(torch.rand(len(self.enc_params))))\n",
    "        self.enc_param_vals  = nn.Parameter(torch.rand(len(self.enc_params)))\n",
    "        \n",
    "        # Parameter for circuit output\n",
    "#         self.w = nn.Parameter(nn.Parameter(torch.rand(self.output_dim)))\n",
    "        self.w = nn.Parameter(torch.tensor([-1,1], dtype=torch.float32))\n",
    "        \n",
    "    def forward(self, inputs):\n",
    "        input_tiled = self.get_input_tiled(inputs)\n",
    "        input_scaled = self.enc_param_vals * input_tiled\n",
    "        input_params = input_scaled\n",
    "    \n",
    "        expectation = self.qnn.forward(input_params.detach(), self.rot_param_vals.detach())\n",
    "        \n",
    "        action_exp = torch.tensor(expectation) * self.w\n",
    "        action_prob = F.softmax(action_exp, dim=1)\n",
    "        \n",
    "        return action_prob\n",
    "\n",
    "    def backward(self, inputs):\n",
    "        input_tiled = self.get_input_tiled(inputs)\n",
    "        input_scaled = self.enc_param_vals * input_tiled\n",
    "        input_params = input_scaled\n",
    "        expectation = self.qnn.forward(input_params.detach(), self.rot_param_vals.detach())\n",
    "        enc_grad, rot_grad = self.qnn.backward(input_params.detach(), self.rot_param_vals.detach())\n",
    "        w_grad = torch.tensor(expectation).tile(self.output_dim)\n",
    "        return torch.tensor(rot_grad.squeeze()), torch.tensor(enc_grad.squeeze()), w_grad\n",
    "    \n",
    "    def get_input_tiled(self, inputs):\n",
    "        # Input: State values -> Need to insert into Encoding gates with scaling parameters(encoding params)\n",
    "        if self.ansatz == 'universal_encoding' or self.ansatz == 'hw_eff':\n",
    "            input_tiled = inputs.tile(2)\n",
    "            input_tiled = input_tiled.tile(self.n_layers)\n",
    "        elif self.ansatz == 'universal':\n",
    "            input_tiled = torch.zeros((inputs.shape[0], inputs.shape[1]+1))\n",
    "            input_tiled[:,:2] = inputs\n",
    "            input_tiled[:,-1] = inputs[:,-1]\n",
    "        else:\n",
    "            input_tiled = inputs.tile(self.n_layers)\n",
    "        return input_tiled"
   ]
  },
  {
   "cell_type": "code",
   "execution_count": 104,
   "metadata": {},
   "outputs": [],
   "source": [
    "policy = PQC_with_DataReuploading(n_qubits=2, n_layers=1, output_dim=2, ansatz='universal_encoding')"
   ]
  },
  {
   "cell_type": "code",
   "execution_count": 105,
   "metadata": {},
   "outputs": [
    {
     "data": {
      "text/plain": [
       "PauliOp(Pauli('ZZ'), coeff=1.0)"
      ]
     },
     "execution_count": 105,
     "metadata": {},
     "output_type": "execute_result"
    }
   ],
   "source": [
    "policy.observables"
   ]
  },
  {
   "cell_type": "code",
   "execution_count": 106,
   "metadata": {},
   "outputs": [
    {
     "data": {
      "image/png": "[encoded data removed]",
      "text/plain": [
       "<Figure size 1102.59x144.48 with 1 Axes>"
      ]
     },
     "execution_count": 106,
     "metadata": {},
     "output_type": "execute_result"
    }
   ],
   "source": [
    "policy.circuit.draw('mpl')"
   ]
  },
  {
   "cell_type": "code",
   "execution_count": 122,
   "metadata": {},
   "outputs": [],
   "source": [
    "inputs = torch.rand((10,2))"
   ]
  },
  {
   "cell_type": "code",
   "execution_count": 123,
   "metadata": {},
   "outputs": [
    {
     "data": {
      "text/plain": [
       "Parameter containing:\n",
       "tensor([0.3942, 0.8559, 5.5361, 3.8156, 1.1844, 4.2884, 4.9739, 2.4022, 3.3763,\n",
       "        0.0870, 1.2918, 0.7219, 3.7900], requires_grad=True)"
      ]
     },
     "execution_count": 123,
     "metadata": {},
     "output_type": "execute_result"
    }
   ],
   "source": [
    "policy.rot_param_vals"
   ]
  },
  {
   "cell_type": "code",
   "execution_count": 124,
   "metadata": {},
   "outputs": [
    {
     "data": {
      "text/plain": [
       "Parameter containing:\n",
       "tensor([0.9876, 0.7907, 0.6983, 0.5201], requires_grad=True)"
      ]
     },
     "execution_count": 124,
     "metadata": {},
     "output_type": "execute_result"
    }
   ],
   "source": [
    "policy.enc_param_vals"
   ]
  },
  {
   "cell_type": "code",
   "execution_count": 125,
   "metadata": {},
   "outputs": [
    {
     "data": {
      "text/plain": [
       "Parameter containing:\n",
       "tensor([-1.,  1.], requires_grad=True)"
      ]
     },
     "execution_count": 125,
     "metadata": {},
     "output_type": "execute_result"
    }
   ],
   "source": [
    "policy.w"
   ]
  },
  {
   "cell_type": "code",
   "execution_count": 126,
   "metadata": {},
   "outputs": [
    {
     "data": {
      "text/plain": [
       "tensor([[0.1713, 0.8287],\n",
       "        [0.1671, 0.8329],\n",
       "        [0.2468, 0.7532],\n",
       "        [0.1842, 0.8158],\n",
       "        [0.1654, 0.8346],\n",
       "        [0.1957, 0.8043],\n",
       "        [0.1960, 0.8040],\n",
       "        [0.1610, 0.8390],\n",
       "        [0.1624, 0.8376],\n",
       "        [0.2032, 0.7968]], dtype=torch.float64, grad_fn=<SoftmaxBackward0>)"
      ]
     },
     "execution_count": 126,
     "metadata": {},
     "output_type": "execute_result"
    }
   ],
   "source": [
    "policy.forward(inputs)"
   ]
  },
  {
   "cell_type": "code",
   "execution_count": 56,
   "metadata": {},
   "outputs": [
    {
     "data": {
      "text/plain": [
       "tensor([[0.6250, 0.3750],\n",
       "        [0.6021, 0.3979],\n",
       "        [0.6254, 0.3746],\n",
       "        [0.6194, 0.3806],\n",
       "        [0.5513, 0.4487],\n",
       "        [0.6224, 0.3776],\n",
       "        [0.6205, 0.3795],\n",
       "        [0.6126, 0.3874],\n",
       "        [0.5575, 0.4425],\n",
       "        [0.5420, 0.4580]], dtype=torch.float64, grad_fn=<SoftmaxBackward0>)"
      ]
     },
     "execution_count": 56,
     "metadata": {},
     "output_type": "execute_result"
    }
   ],
   "source": [
    "policy.forward(inputs)"
   ]
  },
  {
   "cell_type": "code",
   "execution_count": 57,
   "metadata": {},
   "outputs": [
    {
     "data": {
      "text/plain": [
       "tensor([[0.6250, 0.3750],\n",
       "        [0.6021, 0.3979],\n",
       "        [0.6254, 0.3746],\n",
       "        [0.6194, 0.3806],\n",
       "        [0.5513, 0.4487],\n",
       "        [0.6224, 0.3776],\n",
       "        [0.6205, 0.3795],\n",
       "        [0.6126, 0.3874],\n",
       "        [0.5575, 0.4425],\n",
       "        [0.5420, 0.4580]], dtype=torch.float64, grad_fn=<SoftmaxBackward0>)"
      ]
     },
     "execution_count": 57,
     "metadata": {},
     "output_type": "execute_result"
    }
   ],
   "source": [
    "policy.forward(inputs)"
   ]
  },
  {
   "cell_type": "code",
   "execution_count": 58,
   "metadata": {},
   "outputs": [
    {
     "name": "stdout",
     "output_type": "stream",
     "text": [
      "1.5970392227172852\n"
     ]
    }
   ],
   "source": [
    "s = time.time()\n",
    "a,b,c = policy.backward(inputs)\n",
    "print(time.time()-s)"
   ]
  },
  {
   "cell_type": "markdown",
   "metadata": {},
   "source": [
    "# Make Quantum Agent"
   ]
  },
  {
   "cell_type": "code",
   "execution_count": 135,
   "metadata": {},
   "outputs": [],
   "source": [
    "class QuantumAgent():\n",
    "    def __init__(self, input_state_dim, n_actions, n_layers=1, ansatz='base'):\n",
    "        self.policy = PQC_with_DataReuploading(n_qubits=input_state_dim, n_layers=n_layers, \n",
    "                                               output_dim=n_actions, observables=None, ansatz=ansatz,\n",
    "                                               activation='linear')\n",
    "        self.n_layers = n_layers\n",
    "#         self.variational_optim = torch.optim.Adam([self.policy.rot_param_vals], lr=0.1)\n",
    "#         self.encoding_optim = torch.optim.Adam([self.policy.enc_param_vals], lr=0.1)\n",
    "#         self.weight_optim = torch.optim.Adam([self.policy.w], lr=0.01)\n",
    "        \n",
    "        self.lr = 1\n",
    "        \n",
    "#         self.optims = [self.variational_optim, self.encoding_optim, self.weight_optim]\n",
    "        \n",
    "    def get_actions(self, input_state):\n",
    "        return self.policy.forward(input_state)\n",
    "    \n",
    "    def update_policy(self, states, id_action_pairs, returns, action_probs, batch_size):\n",
    "        r_grad, e_grad, w_grad = self.policy.backward(states)\n",
    "        \n",
    "        p_actions = torch.tensor([action_probs[id_action_pairs[i][0], id_action_pairs[i][1]] for i in range(action_probs.shape[0])])\n",
    "        p_actions = p_actions.reshape(p_actions.shape[0], -1)\n",
    "        action_idxs = id_action_pairs[:,1]\n",
    "        \n",
    "        returns = returns.reshape(returns.shape[0], -1)\n",
    "        action_weights = agent.policy.w.detach().numpy()[id_action_pairs[:,1]]\n",
    "        action_weights = action_weights[:,np.newaxis]\n",
    "        \n",
    "        w = agent.policy.w.tile(len(states)).reshape(len(states),-1)\n",
    "        \n",
    "        rot_grad = returns * ( r_grad * torch.tensor(action_weights) - torch.sum(p_actions * w) * r_grad)\n",
    "        input_scaled = self.policy.enc_param_vals * self.policy.get_input_tiled(states)\n",
    "        \n",
    "        enc_grad = returns * ( e_grad * torch.tensor(action_weights) - input_scaled * torch.sum(p_actions * w) * e_grad)\n",
    "        weight_grad = returns * ( w_grad * torch.tensor(action_weights) - torch.sum(p_actions * w) * w_grad)\n",
    "        \n",
    "        prev = self.policy.rot_param_vals.detach().numpy().copy()\n",
    "        prev1 = self.policy.enc_param_vals.detach().numpy().copy()\n",
    "        prev2 = self.policy.w.detach().numpy().copy()\n",
    "        \n",
    "#         rot_update = (torch.mean(rot_grad.detach(), dim=0) / batch_size).type(torch.float32)\n",
    "#         enc_update = (torch.mean(enc_grad, dim=0).detach() / batch_size).type(torch.float32)\n",
    "#         w_update = (torch.mean(weight_grad, dim=0).detach() / batch_size).type(torch.float32)\n",
    "\n",
    "        rot_update = torch.mean(rot_grad, dim=0) / batch_size\n",
    "        enc_update = torch.mean(enc_grad, dim=0) / batch_size\n",
    "        w_update = torch.mean(weight_grad, dim=0) / batch_size\n",
    "        \n",
    "        with torch.no_grad():            \n",
    "            self.policy.rot_param_vals += self.lr * rot_update\n",
    "            self.policy.enc_param_vals += self.lr * enc_update\n",
    "            self.policy.w += self.lr * w_update\n",
    "#         self.policy.rot_param_vals.grad = -1*rot_update\n",
    "#         self.policy.enc_param_vals.grad = -1*enc_update\n",
    "#         self.policy.w.grad = -1*w_update\n",
    "                \n",
    "#         print(rot_update)\n",
    "#         print(enc_update)\n",
    "        \n",
    "#         self.variational_optim.step()\n",
    "#         self.encoding_optim.step()\n",
    "#         self.weight_optim.step()\n",
    "\n",
    "        print(self.policy.rot_param_vals.detach() - prev)\n",
    "        print(rot_update)\n",
    "        print(self.policy.enc_param_vals.detach() - prev1)\n",
    "        print(enc_update)\n",
    "        print(self.policy.w.detach() - prev2)\n",
    "        print(w_update)\n",
    "        \n",
    "#         with torch.no_grad():\n",
    "#             self.policy.rot_param_vals[self.policy.rot_param_vals > 2*np.pi] = 2*np.pi\n",
    "#             self.policy.enc_param_vals[self.policy.enc_param_vals > 2*np.pi] = 2*np.pi\n",
    "#             self.policy.rot_param_vals[self.policy.rot_param_vals < 0] = 0\n",
    "#             self.policy.enc_param_vals[self.policy.enc_param_vals < 0] = 0\n",
    "        \n",
    "#         print(self.policy.rot_param_vals)"
   ]
  },
  {
   "cell_type": "code",
   "execution_count": 136,
   "metadata": {},
   "outputs": [
    {
     "name": "stdout",
     "output_type": "stream",
     "text": [
      "24\n"
     ]
    }
   ],
   "source": [
    "n_qubits = 4 # Dimension of the state vectors in CartPole\n",
    "n_layers = 1\n",
    "n_actions = 2 # Number of actions in CartPole\n",
    "agent = QuantumAgent(input_state_dim = n_qubits, n_actions=n_actions, n_layers=n_layers, ansatz='base')"
   ]
  },
  {
   "cell_type": "code",
   "execution_count": 137,
   "metadata": {},
   "outputs": [
    {
     "data": {
      "image/png": "[encoded data removed]",
      "text/plain": [
       "<Figure size 1102.45x264.88 with 1 Axes>"
      ]
     },
     "execution_count": 137,
     "metadata": {},
     "output_type": "execute_result"
    }
   ],
   "source": [
    "agent.policy.circuit.draw('mpl')"
   ]
  },
  {
   "cell_type": "markdown",
   "metadata": {},
   "source": [
    "# Run Episodes and Update Policy"
   ]
  },
  {
   "cell_type": "code",
   "execution_count": 138,
   "metadata": {},
   "outputs": [],
   "source": [
    "def gather_episodes(state_bounds, n_actions, agent, n_episodes, env_name):\n",
    "    \"\"\"Interact with environment in batched fashion.\"\"\"\n",
    "\n",
    "    trajectories = [defaultdict(list) for _ in range(n_episodes)]\n",
    "#     envs = [Curling() for _ in range(n_episodes)]\n",
    "    envs = [gym.make(env_name) for _ in range(n_episodes)]\n",
    "\n",
    "    done = [False for _ in range(n_episodes)]\n",
    "    states = [e.reset() for e in envs]\n",
    "\n",
    "    while not all(done):\n",
    "        unfinished_ids = [i for i in range(n_episodes) if not done[i]]\n",
    "        normalized_states = [s/state_bounds for i, s in enumerate(states) if not done[i]]\n",
    "\n",
    "        for i, state in zip(unfinished_ids, normalized_states):\n",
    "            trajectories[i]['states'].append(state)\n",
    "\n",
    "        states = torch.from_numpy(np.array(normalized_states))\n",
    "        action_probs = agent.get_actions(states)\n",
    "\n",
    "        # Store action and transition all environments to the next state\n",
    "        states = [None for i in range(n_episodes)]\n",
    "        for i, action_prob in zip(unfinished_ids, action_probs.detach().numpy()):\n",
    "            action = np.random.choice(n_actions, p=action_prob)\n",
    "            states[i], reward, done[i], _ = envs[i].step(action)\n",
    "            trajectories[i]['actions'].append(action)\n",
    "            trajectories[i]['rewards'].append(reward)\n",
    "            trajectories[i]['action probs'].append(action_prob)\n",
    "\n",
    "    return trajectories\n",
    "\n",
    "def compute_returns(rewards_history, gamma):\n",
    "    \"\"\"Compute discounted returns with discount factor `gamma`.\"\"\"\n",
    "    returns = []\n",
    "    discounted_sum = 0\n",
    "    for r in rewards_history[::-1]:\n",
    "        discounted_sum = r + gamma * discounted_sum\n",
    "        returns.insert(0, discounted_sum)\n",
    "\n",
    "    # Normalize them for faster and more stable learning\n",
    "    returns = np.array(returns)\n",
    "    returns = (returns - np.mean(returns)) / (np.std(returns) + 1e-8)\n",
    "    returns = returns.tolist()\n",
    "\n",
    "    return returns"
   ]
  },
  {
   "cell_type": "code",
   "execution_count": 139,
   "metadata": {},
   "outputs": [],
   "source": [
    "env_name = \"CartPole-v1\"\n",
    "# env_name = \"Curling\"\n",
    "if env_name == \"CartPole-v1\":\n",
    "    state_bounds = np.array([2.4, 2.5, 0.21, 2.5])\n",
    "elif env_name == 'Curling':\n",
    "    state_bounds = np.array([3, 1])\n",
    "gamma = 1\n",
    "batch_size = 1\n",
    "n_episodes = 100"
   ]
  },
  {
   "cell_type": "code",
   "execution_count": null,
   "metadata": {
    "scrolled": true
   },
   "outputs": [
    {
     "data": {
      "application/vnd.jupyter.widget-view+json": {
       "model_id": "7f77c94bbd1444c8a911b138cc281b27",
       "version_major": 2,
       "version_minor": 0
      },
      "text/plain": [
       "  0%|          | 0/100 [00:00<?, ?it/s]"
      ]
     },
     "metadata": {},
     "output_type": "display_data"
    },
    {
     "name": "stdout",
     "output_type": "stream",
     "text": [
      "tensor([ 0.0061,  0.0012,  0.0037, -0.0039,  0.0047,  0.0038,  0.0002,  0.0005,\n",
      "         0.0007, -0.0059, -0.0017, -0.0038,  0.0002,  0.0037,  0.0000,  0.0074,\n",
      "        -0.0029,  0.0000, -0.0021,  0.0059,  0.0000, -0.0010, -0.0047,  0.0000])\n",
      "tensor([ 6.1397e-03,  1.2410e-03,  3.6974e-03, -3.8949e-03,  4.7178e-03,\n",
      "         3.7596e-03,  2.4543e-04,  4.7900e-04,  7.2770e-04, -5.9334e-03,\n",
      "        -1.7308e-03, -3.8203e-03,  1.7899e-04,  3.6794e-03,  2.7226e-18,\n",
      "         7.3730e-03, -2.8542e-03, -4.7232e-18, -2.1343e-03,  5.9197e-03,\n",
      "         1.9103e-18, -9.8361e-04, -4.6915e-03, -9.6269e-19],\n",
      "       dtype=torch.float64, grad_fn=<DivBackward0>)\n",
      "tensor([ 0.0002,  0.0074, -0.0021, -0.0010])\n",
      "tensor([ 0.0002,  0.0074, -0.0021, -0.0010], dtype=torch.float64,\n",
      "       grad_fn=<DivBackward0>)\n",
      "tensor([0.0030, 0.0030])\n",
      "tensor([0.0030, 0.0030], dtype=torch.float64, grad_fn=<DivBackward0>)\n",
      "tensor([[0.4583, 0.5417],\n",
      "        [0.4613, 0.5387],\n",
      "        [0.4583, 0.5417],\n",
      "        [0.4614, 0.5386],\n",
      "        [0.4584, 0.5416],\n",
      "        [0.4614, 0.5386],\n",
      "        [0.4646, 0.5354],\n",
      "        [0.4616, 0.5384],\n",
      "        [0.4648, 0.5352],\n",
      "        [0.4618, 0.5382],\n",
      "        [0.4587, 0.5413],\n",
      "        [0.4619, 0.5381],\n",
      "        [0.4653, 0.5347],\n",
      "        [0.4622, 0.5378],\n",
      "        [0.4656, 0.5344],\n",
      "        [0.4693, 0.5307],\n",
      "        [0.4663, 0.5337],\n",
      "        [0.4702, 0.5298],\n",
      "        [0.4743, 0.5257],\n",
      "        [0.4716, 0.5284]], dtype=torch.float64)\n",
      "Finished episode 1 Average rewards:  20.0\n",
      "tensor([ 0.0113, -0.0091,  0.0091,  0.0039, -0.0054, -0.0042,  0.0101,  0.0039,\n",
      "         0.0116,  0.0208,  0.0095,  0.0146, -0.0140,  0.0014,  0.0000, -0.0043,\n",
      "         0.0009,  0.0000, -0.0051, -0.0081,  0.0000,  0.0033,  0.0201,  0.0000])\n",
      "tensor([ 1.1320e-02, -9.1449e-03,  9.1242e-03,  3.8649e-03, -5.3616e-03,\n",
      "        -4.2331e-03,  1.0118e-02,  3.9443e-03,  1.1584e-02,  2.0799e-02,\n",
      "         9.4900e-03,  1.4621e-02, -1.4009e-02,  1.4205e-03,  8.6355e-18,\n",
      "        -4.3187e-03,  8.5601e-04,  3.0499e-18, -5.0800e-03, -8.1362e-03,\n",
      "        -1.3736e-17,  3.3063e-03,  2.0077e-02,  1.7018e-18],\n",
      "       dtype=torch.float64, grad_fn=<DivBackward0>)\n",
      "tensor([-0.0145, -0.0036, -0.0058,  0.0034])\n",
      "tensor([-0.0145, -0.0036, -0.0058,  0.0034], dtype=torch.float64,\n",
      "       grad_fn=<DivBackward0>)\n",
      "tensor([-0.0122, -0.0122])\n",
      "tensor([-0.0122, -0.0122], dtype=torch.float64, grad_fn=<DivBackward0>)\n",
      "tensor([[0.4555, 0.5445],\n",
      "        [0.4526, 0.5474],\n",
      "        [0.4555, 0.5445],\n",
      "        [0.4527, 0.5473],\n",
      "        [0.4500, 0.5500],\n",
      "        [0.4528, 0.5472],\n",
      "        [0.4555, 0.5445],\n",
      "        [0.4528, 0.5472],\n",
      "        [0.4556, 0.5444],\n",
      "        [0.4528, 0.5472],\n",
      "        [0.4503, 0.5497],\n",
      "        [0.4481, 0.5519],\n",
      "        [0.4508, 0.5492],\n",
      "        [0.4488, 0.5512],\n",
      "        [0.4472, 0.5528],\n",
      "        [0.4500, 0.5500],\n",
      "        [0.4527, 0.5473],\n",
      "        [0.4512, 0.5488],\n",
      "        [0.4501, 0.5499]], dtype=torch.float64)\n",
      "Monitored episode 50 Average Monitored rewards:  22.22\n",
      "Finished episode 2 Average rewards:  34.0\n",
      "tensor([ 0.0090, -0.0064,  0.0071,  0.0045, -0.0043, -0.0035,  0.0076,  0.0031,\n",
      "         0.0087,  0.0172,  0.0069,  0.0118, -0.0122,  0.0006,  0.0000, -0.0031,\n",
      "         0.0017,  0.0000, -0.0046, -0.0082,  0.0000,  0.0026,  0.0140,  0.0000])\n",
      "tensor([ 8.9578e-03, -6.3887e-03,  7.0557e-03,  4.4735e-03, -4.3272e-03,\n",
      "        -3.5393e-03,  7.5640e-03,  3.0553e-03,  8.7132e-03,  1.7248e-02,\n",
      "         6.8908e-03,  1.1757e-02, -1.2185e-02,  5.8173e-04, -1.3513e-17,\n",
      "        -3.0891e-03,  1.6774e-03,  1.7053e-18, -4.5712e-03, -8.1977e-03,\n",
      "         1.1227e-17,  2.5614e-03,  1.3978e-02, -1.3936e-18],\n",
      "       dtype=torch.float64, grad_fn=<DivBackward0>)\n",
      "tensor([-0.0114, -0.0041, -0.0029,  0.0025])\n",
      "tensor([-0.0114, -0.0041, -0.0029,  0.0025], dtype=torch.float64,\n",
      "       grad_fn=<DivBackward0>)\n",
      "tensor([-0.0087, -0.0087])\n",
      "tensor([-0.0087, -0.0087], dtype=torch.float64, grad_fn=<DivBackward0>)\n",
      "tensor([[0.4613, 0.5387],\n",
      "        [0.4591, 0.5409],\n",
      "        [0.4614, 0.5386],\n",
      "        [0.4591, 0.5409],\n",
      "        [0.4614, 0.5386],\n",
      "        [0.4592, 0.5408],\n",
      "        [0.4572, 0.5428],\n",
      "        [0.4594, 0.5406],\n",
      "        [0.4617, 0.5383],\n",
      "        [0.4596, 0.5404],\n",
      "        [0.4618, 0.5382],\n",
      "        [0.4598, 0.5402],\n",
      "        [0.4620, 0.5380],\n",
      "        [0.4642, 0.5358],\n",
      "        [0.4621, 0.5379],\n",
      "        [0.4602, 0.5398],\n",
      "        [0.4586, 0.5414],\n",
      "        [0.4609, 0.5391],\n",
      "        [0.4595, 0.5405],\n",
      "        [0.4619, 0.5381],\n",
      "        [0.4607, 0.5393]], dtype=torch.float64)\n",
      "Finished episode 3 Average rewards:  21.0\n",
      "tensor([ 6.2296e-03, -1.0171e-03,  4.1561e-03,  5.9938e-04, -2.9802e-04,\n",
      "        -2.7299e-04,  1.8871e-03,  9.5510e-04,  2.3756e-03,  2.5845e-03,\n",
      "         1.2469e-03,  1.8258e-03, -4.0708e-03,  2.1930e-03,  0.0000e+00,\n",
      "         1.9603e-03,  8.3756e-04,  0.0000e+00, -2.8609e-03,  2.2892e-03,\n",
      "         0.0000e+00,  4.1866e-04, -9.0718e-05,  0.0000e+00])\n",
      "tensor([ 6.2297e-03, -1.0171e-03,  4.1561e-03,  5.9942e-04, -2.9809e-04,\n",
      "        -2.7293e-04,  1.8871e-03,  9.5522e-04,  2.3757e-03,  2.5846e-03,\n",
      "         1.2470e-03,  1.8258e-03, -4.0708e-03,  2.1929e-03,  1.3737e-17,\n",
      "         1.9602e-03,  8.3757e-04, -7.2996e-18, -2.8609e-03,  2.2891e-03,\n",
      "        -9.1667e-19,  4.1859e-04, -9.0745e-05, -1.3939e-19],\n",
      "       dtype=torch.float64, grad_fn=<DivBackward0>)\n",
      "tensor([-0.0015, -0.0011,  0.0018,  0.0002])\n",
      "tensor([-0.0015, -0.0011,  0.0018,  0.0002], dtype=torch.float64,\n",
      "       grad_fn=<DivBackward0>)\n",
      "tensor([-0.0005, -0.0005])\n",
      "tensor([-0.0005, -0.0005], dtype=torch.float64, grad_fn=<DivBackward0>)\n",
      "tensor([[0.4655, 0.5345],\n",
      "        [0.4676, 0.5324],\n",
      "        [0.4655, 0.5345],\n",
      "        [0.4636, 0.5364],\n",
      "        [0.4656, 0.5344],\n",
      "        [0.4637, 0.5363],\n",
      "        [0.4657, 0.5343],\n",
      "        [0.4638, 0.5362],\n",
      "        [0.4622, 0.5378],\n",
      "        [0.4641, 0.5359],\n",
      "        [0.4660, 0.5340],\n",
      "        [0.4679, 0.5321],\n",
      "        [0.4698, 0.5302],\n",
      "        [0.4678, 0.5322],\n",
      "        [0.4660, 0.5340],\n",
      "        [0.4643, 0.5357],\n",
      "        [0.4628, 0.5372],\n",
      "        [0.4647, 0.5353],\n",
      "        [0.4666, 0.5334],\n",
      "        [0.4684, 0.5316],\n",
      "        [0.4668, 0.5332],\n",
      "        [0.4686, 0.5314],\n",
      "        [0.4670, 0.5330],\n",
      "        [0.4657, 0.5343],\n",
      "        [0.4676, 0.5324],\n",
      "        [0.4664, 0.5336],\n",
      "        [0.4656, 0.5344],\n",
      "        [0.4676, 0.5324],\n",
      "        [0.4671, 0.5329]], dtype=torch.float64)\n",
      "Finished episode 4 Average rewards:  29.0\n",
      "tensor([ 0.0027,  0.0099, -0.0005, -0.0085,  0.0067,  0.0056, -0.0121, -0.0046,\n",
      "        -0.0135, -0.0300, -0.0103, -0.0199,  0.0152,  0.0062,  0.0000,  0.0114,\n",
      "        -0.0007,  0.0000,  0.0011,  0.0304,  0.0000, -0.0041, -0.0286,  0.0000])\n",
      "tensor([ 2.7393e-03,  9.9317e-03, -5.2570e-04, -8.4801e-03,  6.6883e-03,\n",
      "         5.6101e-03, -1.2102e-02, -4.6056e-03, -1.3528e-02, -2.9985e-02,\n",
      "        -1.0283e-02, -1.9863e-02,  1.5178e-02,  6.2396e-03,  4.0666e-20,\n",
      "         1.1418e-02, -6.5121e-04, -6.4022e-18,  1.0766e-03,  3.0382e-02,\n",
      "         7.5035e-18, -4.0758e-03, -2.8588e-02, -5.3865e-18],\n",
      "       dtype=torch.float64, grad_fn=<DivBackward0>)\n",
      "tensor([ 0.0175,  0.0083,  0.0070, -0.0043])\n",
      "tensor([ 0.0175,  0.0083,  0.0070, -0.0043], dtype=torch.float64,\n",
      "       grad_fn=<DivBackward0>)\n",
      "tensor([0.0157, 0.0157])\n",
      "tensor([0.0157, 0.0157], dtype=torch.float64, grad_fn=<DivBackward0>)\n",
      "tensor([[0.4657, 0.5343],\n",
      "        [0.4639, 0.5361],\n",
      "        [0.4657, 0.5343],\n",
      "        [0.4639, 0.5361],\n",
      "        [0.4657, 0.5343],\n",
      "        [0.4677, 0.5323],\n",
      "        [0.4657, 0.5343],\n",
      "        [0.4638, 0.5362],\n",
      "        [0.4620, 0.5380],\n",
      "        [0.4605, 0.5395],\n",
      "        [0.4623, 0.5377],\n",
      "        [0.4608, 0.5392],\n",
      "        [0.4626, 0.5374],\n",
      "        [0.4613, 0.5387],\n",
      "        [0.4603, 0.5397],\n",
      "        [0.4621, 0.5379],\n",
      "        [0.4639, 0.5361],\n",
      "        [0.4655, 0.5345],\n",
      "        [0.4643, 0.5357],\n",
      "        [0.4659, 0.5341],\n",
      "        [0.4649, 0.5351],\n",
      "        [0.4665, 0.5335],\n",
      "        [0.4681, 0.5319],\n",
      "        [0.4696, 0.5304],\n",
      "        [0.4683, 0.5317],\n",
      "        [0.4673, 0.5327],\n",
      "        [0.4690, 0.5310]], dtype=torch.float64)\n",
      "Finished episode 5 Average rewards:  27.0\n"
     ]
    }
   ],
   "source": [
    "# Start training the agent\n",
    "episode_reward_history = []\n",
    "# Monitoring reward\n",
    "monitor_reward_history = []\n",
    "for batch in tqdm(range(n_episodes // batch_size)):\n",
    "    # Gather episodes\n",
    "    episodes = gather_episodes(state_bounds, n_actions, agent, batch_size, env_name)\n",
    "\n",
    "    # Group states, actions and returns in numpy arrays\n",
    "    states = torch.from_numpy(np.concatenate([ep['states'] for ep in episodes]))\n",
    "    actions = torch.from_numpy(np.concatenate([ep['actions'] for ep in episodes]))\n",
    "    action_probs = torch.from_numpy(np.concatenate([ep['action probs'] for ep in episodes]))\n",
    "    rewards = [ep['rewards'] for ep in episodes]\n",
    "    returns = np.concatenate([compute_returns(ep_rwds, gamma) for ep_rwds in rewards])\n",
    "    returns = torch.from_numpy(np.array(returns))\n",
    "#     print(action_probs)\n",
    "\n",
    "    id_action_pairs = torch.from_numpy(np.array([[i, a] for i, a in enumerate(actions)]))\n",
    "\n",
    "    # Update model parameters.\n",
    "    agent.update_policy(states, id_action_pairs, returns, action_probs, batch_size)\n",
    "    print(action_probs)\n",
    "\n",
    "    if batch % 5 == 1:\n",
    "        # Gather episodes\n",
    "        episodes = gather_episodes(state_bounds, n_actions, agent, 50, env_name)\n",
    "\n",
    "        # Group states, actions and returns in numpy arrays\n",
    "        states = torch.from_numpy(np.concatenate([ep['states'] for ep in episodes]))\n",
    "        actions = torch.from_numpy(np.concatenate([ep['actions'] for ep in episodes]))\n",
    "        action_probs = torch.from_numpy(np.concatenate([ep['action probs'] for ep in episodes]))\n",
    "        rewards = [ep['rewards'] for ep in episodes]\n",
    "        # Store collected rewards\n",
    "        temp_hist = []\n",
    "        for ep_rwds in rewards:\n",
    "            temp_hist.append(np.sum(ep_rwds))\n",
    "        avg_rewards = np.mean(temp_hist)\n",
    "        monitor_reward_history.append(avg_rewards)\n",
    "        \n",
    "        print('Monitored episode', 50,\n",
    "              'Average Monitored rewards: ', avg_rewards)\n",
    "\n",
    "    # Store collected rewards\n",
    "    for ep_rwds in rewards:\n",
    "        episode_reward_history.append(np.sum(ep_rwds))\n",
    "\n",
    "    avg_rewards = np.mean(episode_reward_history[-batch_size:])\n",
    "\n",
    "    print('Finished episode', (batch + 1) * batch_size,\n",
    "          'Average rewards: ', avg_rewards)\n",
    "\n",
    "    if avg_rewards >= 500.0:\n",
    "        break"
   ]
  },
  {
   "cell_type": "code",
   "execution_count": null,
   "metadata": {},
   "outputs": [],
   "source": [
    "plt.plot(episode_reward_history)"
   ]
  },
  {
   "cell_type": "code",
   "execution_count": null,
   "metadata": {},
   "outputs": [],
   "source": [
    "plt.hist(episode_reward_history[:400], bins=30)"
   ]
  },
  {
   "cell_type": "code",
   "execution_count": null,
   "metadata": {},
   "outputs": [],
   "source": [
    "plt.hist(episode_reward_history[-400:], bins=30)"
   ]
  },
  {
   "cell_type": "code",
   "execution_count": null,
   "metadata": {},
   "outputs": [],
   "source": [
    "plt.plot(monitor_reward_history)"
   ]
  },
  {
   "cell_type": "code",
   "execution_count": null,
   "metadata": {},
   "outputs": [],
   "source": []
  },
  {
   "cell_type": "code",
   "execution_count": null,
   "metadata": {},
   "outputs": [],
   "source": []
  }
 ],
 "metadata": {
  "colab": {
   "authorship_tag": "ABX9TyNE3QY8UA5xCDFR4Ht9tSPe",
   "collapsed_sections": [
    "ksJVcTLxzskm",
    "jySdpQf_zuiE",
    "MIKgmnTWM8yz",
    "eLm2LW4zBqPo"
   ],
   "name": "QuantumCircuitLearning.ipynb",
   "provenance": []
  },
  "kernelspec": {
   "display_name": "Python 3",
   "language": "python",
   "name": "python3"
  },
  "language_info": {
   "codemirror_mode": {
    "name": "ipython",
    "version": 3
   },
   "file_extension": ".py",
   "mimetype": "text/x-python",
   "name": "python",
   "nbconvert_exporter": "python",
   "pygments_lexer": "ipython3",
   "version": "3.8.8"
  },
  "widgets": {
   "application/vnd.jupyter.widget-state+json": {
    "1b23efbb8db748a2af8554186cf2a3d8": {
     "model_module": "@jupyter-widgets/base",
     "model_module_version": "1.2.0",
     "model_name": "LayoutModel",
     "state": {
      "_model_module": "@jupyter-widgets/base",
      "_model_module_version": "1.2.0",
      "_model_name": "LayoutModel",
      "_view_count": null,
      "_view_module": "@jupyter-widgets/base",
      "_view_module_version": "1.2.0",
      "_view_name": "LayoutView",
      "align_content": null,
      "align_items": null,
      "align_self": null,
      "border": null,
      "bottom": null,
      "display": null,
      "flex": null,
      "flex_flow": null,
      "grid_area": null,
      "grid_auto_columns": null,
      "grid_auto_flow": null,
      "grid_auto_rows": null,
      "grid_column": null,
      "grid_gap": null,
      "grid_row": null,
      "grid_template_areas": null,
      "grid_template_columns": null,
      "grid_template_rows": null,
      "height": null,
      "justify_content": null,
      "justify_items": null,
      "left": null,
      "margin": null,
      "max_height": null,
      "max_width": null,
      "min_height": null,
      "min_width": null,
      "object_fit": null,
      "object_position": null,
      "order": null,
      "overflow": null,
      "overflow_x": null,
      "overflow_y": null,
      "padding": null,
      "right": null,
      "top": null,
      "visibility": null,
      "width": null
     }
    },
    "235d4532e52e4aadbc6c049c0c7369b3": {
     "model_module": "@jupyter-widgets/base",
     "model_module_version": "1.2.0",
     "model_name": "LayoutModel",
     "state": {
      "_model_module": "@jupyter-widgets/base",
      "_model_module_version": "1.2.0",
      "_model_name": "LayoutModel",
      "_view_count": null,
      "_view_module": "@jupyter-widgets/base",
      "_view_module_version": "1.2.0",
      "_view_name": "LayoutView",
      "align_content": null,
      "align_items": null,
      "align_self": null,
      "border": null,
      "bottom": null,
      "display": null,
      "flex": null,
      "flex_flow": null,
      "grid_area": null,
      "grid_auto_columns": null,
      "grid_auto_flow": null,
      "grid_auto_rows": null,
      "grid_column": null,
      "grid_gap": null,
      "grid_row": null,
      "grid_template_areas": null,
      "grid_template_columns": null,
      "grid_template_rows": null,
      "height": null,
      "justify_content": null,
      "justify_items": null,
      "left": null,
      "margin": null,
      "max_height": null,
      "max_width": null,
      "min_height": null,
      "min_width": null,
      "object_fit": null,
      "object_position": null,
      "order": null,
      "overflow": null,
      "overflow_x": null,
      "overflow_y": null,
      "padding": null,
      "right": null,
      "top": null,
      "visibility": null,
      "width": null
     }
    },
    "25885ff5cc014bafa5442805d676c0be": {
     "model_module": "@jupyter-widgets/controls",
     "model_module_version": "1.5.0",
     "model_name": "FloatProgressModel",
     "state": {
      "_dom_classes": [],
      "_model_module": "@jupyter-widgets/controls",
      "_model_module_version": "1.5.0",
      "_model_name": "FloatProgressModel",
      "_view_count": null,
      "_view_module": "@jupyter-widgets/controls",
      "_view_module_version": "1.5.0",
      "_view_name": "ProgressView",
      "bar_style": "success",
      "description": "100%",
      "description_tooltip": null,
      "layout": "IPY_MODEL_235d4532e52e4aadbc6c049c0c7369b3",
      "max": 50,
      "min": 0,
      "orientation": "horizontal",
      "style": "IPY_MODEL_4ede1074ee2f496ab3d864be52157d03",
      "value": 50
     }
    },
    "40ae390ed75a46f292ffc969fdd0509e": {
     "model_module": "@jupyter-widgets/controls",
     "model_module_version": "1.5.0",
     "model_name": "DescriptionStyleModel",
     "state": {
      "_model_module": "@jupyter-widgets/controls",
      "_model_module_version": "1.5.0",
      "_model_name": "DescriptionStyleModel",
      "_view_count": null,
      "_view_module": "@jupyter-widgets/base",
      "_view_module_version": "1.2.0",
      "_view_name": "StyleView",
      "description_width": ""
     }
    },
    "4ede1074ee2f496ab3d864be52157d03": {
     "model_module": "@jupyter-widgets/controls",
     "model_module_version": "1.5.0",
     "model_name": "ProgressStyleModel",
     "state": {
      "_model_module": "@jupyter-widgets/controls",
      "_model_module_version": "1.5.0",
      "_model_name": "ProgressStyleModel",
      "_view_count": null,
      "_view_module": "@jupyter-widgets/base",
      "_view_module_version": "1.2.0",
      "_view_name": "StyleView",
      "bar_color": null,
      "description_width": "initial"
     }
    },
    "68c55b17e042416c91105f585c6f622a": {
     "model_module": "@jupyter-widgets/controls",
     "model_module_version": "1.5.0",
     "model_name": "HTMLModel",
     "state": {
      "_dom_classes": [],
      "_model_module": "@jupyter-widgets/controls",
      "_model_module_version": "1.5.0",
      "_model_name": "HTMLModel",
      "_view_count": null,
      "_view_module": "@jupyter-widgets/controls",
      "_view_module_version": "1.5.0",
      "_view_name": "HTMLView",
      "description": "",
      "description_tooltip": null,
      "layout": "IPY_MODEL_ec14bbc210b743f085734c3bf858fd72",
      "placeholder": "​",
      "style": "IPY_MODEL_40ae390ed75a46f292ffc969fdd0509e",
      "value": " 50/50 [11:53&lt;00:00, 14.28s/it]"
     }
    },
    "cc511557b8a54d408c9d2ddcaa7aa7dc": {
     "model_module": "@jupyter-widgets/controls",
     "model_module_version": "1.5.0",
     "model_name": "HBoxModel",
     "state": {
      "_dom_classes": [],
      "_model_module": "@jupyter-widgets/controls",
      "_model_module_version": "1.5.0",
      "_model_name": "HBoxModel",
      "_view_count": null,
      "_view_module": "@jupyter-widgets/controls",
      "_view_module_version": "1.5.0",
      "_view_name": "HBoxView",
      "box_style": "",
      "children": [
       "IPY_MODEL_25885ff5cc014bafa5442805d676c0be",
       "IPY_MODEL_68c55b17e042416c91105f585c6f622a"
      ],
      "layout": "IPY_MODEL_1b23efbb8db748a2af8554186cf2a3d8"
     }
    },
    "ec14bbc210b743f085734c3bf858fd72": {
     "model_module": "@jupyter-widgets/base",
     "model_module_version": "1.2.0",
     "model_name": "LayoutModel",
     "state": {
      "_model_module": "@jupyter-widgets/base",
      "_model_module_version": "1.2.0",
      "_model_name": "LayoutModel",
      "_view_count": null,
      "_view_module": "@jupyter-widgets/base",
      "_view_module_version": "1.2.0",
      "_view_name": "LayoutView",
      "align_content": null,
      "align_items": null,
      "align_self": null,
      "border": null,
      "bottom": null,
      "display": null,
      "flex": null,
      "flex_flow": null,
      "grid_area": null,
      "grid_auto_columns": null,
      "grid_auto_flow": null,
      "grid_auto_rows": null,
      "grid_column": null,
      "grid_gap": null,
      "grid_row": null,
      "grid_template_areas": null,
      "grid_template_columns": null,
      "grid_template_rows": null,
      "height": null,
      "justify_content": null,
      "justify_items": null,
      "left": null,
      "margin": null,
      "max_height": null,
      "max_width": null,
      "min_height": null,
      "min_width": null,
      "object_fit": null,
      "object_position": null,
      "order": null,
      "overflow": null,
      "overflow_x": null,
      "overflow_y": null,
      "padding": null,
      "right": null,
      "top": null,
      "visibility": null,
      "width": null
     }
    }
   }
  }
 },
 "nbformat": 4,
 "nbformat_minor": 1
}
